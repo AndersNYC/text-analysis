{
 "cells": [
  {
   "cell_type": "markdown",
   "metadata": {
    "slideshow": {
     "slide_type": "slide"
    }
   },
   "source": [
    "# [Introduction to Text Analysis with Python](https://github.com/michellejm/NLTK_DHRI)\n",
    "### Digital Humanities Research Institute <br> June 13, 2018\n",
    "#### Michelle A. McSweeney, PhD <br> Rachel Rakov\n",
    "\n"
   ]
  },
  {
   "cell_type": "code",
   "execution_count": 163,
   "metadata": {
    "slideshow": {
     "slide_type": "slide"
    }
   },
   "outputs": [],
   "source": [
    "import nltk\n",
    "from nltk.book import *"
   ]
  },
  {
   "cell_type": "markdown",
   "metadata": {
    "slideshow": {
     "slide_type": "slide"
    }
   },
   "source": [
    "**Concordance**: Words in their contexts"
   ]
  },
  {
   "cell_type": "code",
   "execution_count": 164,
   "metadata": {
    "slideshow": {
     "slide_type": "fragment"
    }
   },
   "outputs": [
    {
     "name": "stdout",
     "output_type": "stream",
     "text": [
      "Displaying 25 of 1226 matches:\n",
      "s , and to teach them by what name a whale - fish is to be called in our tongue\n",
      "t which is not true .\" -- HACKLUYT \" WHALE . ... Sw . and Dan . HVAL . This ani\n",
      "ulted .\" -- WEBSTER ' S DICTIONARY \" WHALE . ... It is more immediately from th\n",
      "ISH . WAL , DUTCH . HWAL , SWEDISH . WHALE , ICELANDIC . WHALE , ENGLISH . BALE\n",
      "HWAL , SWEDISH . WHALE , ICELANDIC . WHALE , ENGLISH . BALEINE , FRENCH . BALLE\n",
      "least , take the higgledy - piggledy whale statements , however authentic , in \n",
      " dreadful gulf of this monster ' s ( whale ' s ) mouth , are immediately lost a\n",
      " patient Job .\" -- RABELAIS . \" This whale ' s liver was two cartloads .\" -- ST\n",
      " Touching that monstrous bulk of the whale or ork we have received nothing cert\n",
      " of oil will be extracted out of one whale .\" -- IBID . \" HISTORY OF LIFE AND D\n",
      "ise .\" -- KING HENRY . \" Very like a whale .\" -- HAMLET . \" Which to secure , n\n",
      "restless paine , Like as the wounded whale to shore flies thro ' the maine .\" -\n",
      ". OF SPERMA CETI AND THE SPERMA CETI WHALE . VIDE HIS V . E . \" Like Spencer ' \n",
      "t had been a sprat in the mouth of a whale .\" -- PILGRIM ' S PROGRESS . \" That \n",
      "EN ' S ANNUS MIRABILIS . \" While the whale is floating at the stern of the ship\n",
      "e ship called The Jonas - in - the - Whale . ... Some say the whale can ' t ope\n",
      " in - the - Whale . ... Some say the whale can ' t open his mouth , but that is\n",
      " masts to see whether they can see a whale , for the first discoverer has a duc\n",
      " for his pains . ... I was told of a whale taken near Shetland , that had above\n",
      "oneers told me that he caught once a whale in Spitzbergen that was white all ov\n",
      "2 , one eighty feet in length of the whale - bone kind came in , which ( as I w\n",
      "n master and kill this Sperma - ceti whale , for I could never hear of any of t\n",
      " . 1729 . \"... and the breath of the whale is frequendy attended with such an i\n",
      "ed with hoops and armed with ribs of whale .\" -- RAPE OF THE LOCK . \" If we com\n",
      "contemptible in the comparison . The whale is doubtless the largest animal in c\n"
     ]
    }
   ],
   "source": [
    "text1.concordance(\"whale\")"
   ]
  },
  {
   "cell_type": "code",
   "execution_count": 165,
   "metadata": {},
   "outputs": [
    {
     "name": "stdout",
     "output_type": "stream",
     "text": [
      "Displaying 24 of 24 matches:\n",
      " to bespeak a monument for her first love , who had been killed by a whale in \n",
      "erlasting itch for things remote . I love to sail forbidden seas , and land on\n",
      "astic our stiff prejudices grow when love once comes to bend them . For now I \n",
      "ng . Now , it was plainly a labor of love for Captain Sleet to describe , as h\n",
      "he whole , I greatly admire and even love the brave , the honest , and learned\n",
      "to - night with hearts as light , To love , as gay and fleeting As bubbles tha\n",
      "he fleece of celestial innocence and love ; and hence , by bringing together t\n",
      "s this visible world seems formed in love , the invisible spheres were formed \n",
      "tism in them , still , while for the love of it they give chase to Moby Dick ,\n",
      "own hearty good - will and brotherly love about it at all . As touching Slave \n",
      "stubborn , as malicious . He did not love Steelkilt , and Steelkilt knew it . \n",
      " of sea - usages and the instinctive love of neatness in seamen ; some of whom\n",
      "g to let that rascal beat ye ? Do ye love brandy ? A hogshead of brandy , then\n",
      "h a sog ! such a sogger ! Don ' t ye love sperm ? There goes three thousand do\n",
      "atever they may reveal of the divine love in the Son , the soft , curled , her\n",
      " come to deadly battle , and all for love . They fence with their long lower j\n",
      "de overtakes the sated Turk ; then a love of ease and virtue supplants the lov\n",
      "ove of ease and virtue supplants the love for maidens ; our Ottoman enters upo\n",
      "go , the Virgin ! that ' s our first love ; we marry and think to be happy for\n",
      "Tranquo , being gifted with a devout love for all matters of barbaric vertu , \n",
      "ght worship is defiance . To neither love nor reverence wilt thou be kind ; an\n",
      " is woe . Come in thy lowest form of love , and I will kneel and kiss thee ; b\n",
      "es , yet full of the sweet things of love and gratitude . Come ! I feel proude\n",
      "dihood of a Nantucketer ' s paternal love , had thus early sought to initiate \n"
     ]
    }
   ],
   "source": [
    "text1.concordance(\"love\")"
   ]
  },
  {
   "cell_type": "markdown",
   "metadata": {
    "slideshow": {
     "slide_type": "slide"
    }
   },
   "source": [
    "**Similar**: Words that appear in a similar environment as the target word\n",
    "This is determined based on concordance, so it returns words that appear in similar contexts\n",
    "\n",
    "Might do this with two different texts"
   ]
  },
  {
   "cell_type": "code",
   "execution_count": 166,
   "metadata": {
    "slideshow": {
     "slide_type": "-"
    }
   },
   "outputs": [
    {
     "name": "stdout",
     "output_type": "stream",
     "text": [
      "sea man it ship by him hand them whale view ships land me life death\n",
      "water way head nature fear\n"
     ]
    }
   ],
   "source": [
    "#How does Melville use \"love\"\n",
    "text1.similar(\"love\")"
   ]
  },
  {
   "cell_type": "code",
   "execution_count": 167,
   "metadata": {},
   "outputs": [
    {
     "name": "stdout",
     "output_type": "stream",
     "text": [
      "affection sister heart mother time see town life it dear elinor\n",
      "marianne me word family her him do regard head\n"
     ]
    }
   ],
   "source": [
    "#How does Austen use \"love\"\n",
    "text2.similar(\"love\")"
   ]
  },
  {
   "cell_type": "code",
   "execution_count": 168,
   "metadata": {},
   "outputs": [
    {
     "name": "stdout",
     "output_type": "stream",
     "text": [
      "join part hi hey and wb well ty lmao yeah hiya ok oh hello you what\n",
      "yes haha no all\n"
     ]
    }
   ],
   "source": [
    "text5.similar('lol')"
   ]
  },
  {
   "cell_type": "code",
   "execution_count": 169,
   "metadata": {},
   "outputs": [],
   "source": [
    "#For the next module, we need a plotting package\n",
    "\n",
    "import matplotlib as plt\n",
    "%matplotlib inline"
   ]
  },
  {
   "cell_type": "code",
   "execution_count": 170,
   "metadata": {
    "slideshow": {
     "slide_type": "slide"
    }
   },
   "outputs": [
    {
     "data": {
      "image/png": "[encoded data removed]",
      "text/plain": [
       "<matplotlib.figure.Figure at 0x1a247c4da0>"
      ]
     },
     "metadata": {},
     "output_type": "display_data"
    }
   ],
   "source": [
    "text1.dispersion_plot([\"whale\", \"monster\"])"
   ]
  },
  {
   "cell_type": "markdown",
   "metadata": {
    "slideshow": {
     "slide_type": "slide"
    }
   },
   "source": [
    "Count a specific word - how many times does this sequence of characters occur in my document?"
   ]
  },
  {
   "cell_type": "code",
   "execution_count": 171,
   "metadata": {
    "slideshow": {
     "slide_type": "fragment"
    }
   },
   "outputs": [
    {
     "data": {
      "text/plain": [
       "282"
      ]
     },
     "execution_count": 171,
     "metadata": {},
     "output_type": "execute_result"
    }
   ],
   "source": [
    "text1.count(\"Whale\")"
   ]
  },
  {
   "cell_type": "markdown",
   "metadata": {
    "slideshow": {
     "slide_type": "slide"
    }
   },
   "source": [
    "How many **tokens** are in my text?\n",
    "\n",
    "**tokens** are unique sequences, let's start with an example:\n",
    "\n",
    "\"love\", \"bowie\", \"Bowie\", \"!\" and \":)\" are all unique **tokens**"
   ]
  },
  {
   "cell_type": "code",
   "execution_count": 172,
   "metadata": {},
   "outputs": [],
   "source": [
    "#remove punctuation by only capturing the items that \n",
    "#\"are alpha\" and then lowering those\n",
    "text1_tokens = []\n",
    "for t in text1:\n",
    "    if t.isalpha():\n",
    "        t.lower()\n",
    "        text1_tokens.append(t)\n",
    "    else:\n",
    "        pass"
   ]
  },
  {
   "cell_type": "code",
   "execution_count": 173,
   "metadata": {
    "slideshow": {
     "slide_type": "fragment"
    }
   },
   "outputs": [
    {
     "data": {
      "text/plain": [
       "218361"
      ]
     },
     "execution_count": 173,
     "metadata": {},
     "output_type": "execute_result"
    }
   ],
   "source": [
    "#First figure out how many words are in our text. \n",
    "\n",
    "len(text1_tokens)"
   ]
  },
  {
   "cell_type": "markdown",
   "metadata": {
    "slideshow": {
     "slide_type": "slide"
    }
   },
   "source": [
    "How many **unique** words are in my text? \n",
    "\n",
    "* first make a set that groups all the \"words\" together (numbers, punctuation sequences, etc.) - this groups together **types**. \n",
    "* Token = instance\n",
    "* Type = more general (\"bowie\" and \"Bowie\" are different types - why?)"
   ]
  },
  {
   "cell_type": "code",
   "execution_count": 174,
   "metadata": {
    "slideshow": {
     "slide_type": "fragment"
    }
   },
   "outputs": [
    {
     "data": {
      "text/plain": [
       "19032"
      ]
     },
     "execution_count": 174,
     "metadata": {},
     "output_type": "execute_result"
    }
   ],
   "source": [
    "#set tells us how many unique items - it makes a set\n",
    "set(text1_tokens)\n",
    "len(set(text1_tokens))"
   ]
  },
  {
   "cell_type": "code",
   "execution_count": 175,
   "metadata": {},
   "outputs": [
    {
     "data": {
      "text/plain": [
       "0.08715842114663333"
      ]
     },
     "execution_count": 175,
     "metadata": {},
     "output_type": "execute_result"
    }
   ],
   "source": [
    "len(set(text1_tokens))/(len(text1_tokens))"
   ]
  },
  {
   "cell_type": "code",
   "execution_count": 176,
   "metadata": {},
   "outputs": [],
   "source": [
    "text1_slice = text1_tokens[0:10000]"
   ]
  },
  {
   "cell_type": "code",
   "execution_count": 177,
   "metadata": {},
   "outputs": [
    {
     "data": {
      "text/plain": [
       "0.3081"
      ]
     },
     "execution_count": 177,
     "metadata": {},
     "output_type": "execute_result"
    }
   ],
   "source": [
    "len(set(text1_slice))/(len(text1_slice))"
   ]
  },
  {
   "cell_type": "markdown",
   "metadata": {},
   "source": [
    "To clean our corpus, we need to:\n",
    "1. Remove capitalizaton and punctuation (DONE)\n",
    "2. Remove the stop words\n",
    "3. Lemmatize the words"
   ]
  },
  {
   "cell_type": "code",
   "execution_count": 180,
   "metadata": {},
   "outputs": [],
   "source": [
    "#import the stopwords from nltk.corpus\n",
    "from nltk.corpus import stopwords\n",
    "stops = stopwords.words('english')"
   ]
  },
  {
   "cell_type": "code",
   "execution_count": 181,
   "metadata": {},
   "outputs": [],
   "source": [
    "#Remove the stop words\n",
    "for t in text1_tokens:\n",
    "    if t in stops:\n",
    "        text1_tokens.remove(t)\n",
    "    else:\n",
    "        pass\n",
    "        "
   ]
  },
  {
   "cell_type": "code",
   "execution_count": 182,
   "metadata": {},
   "outputs": [
    {
     "data": {
      "text/plain": [
       "125450"
      ]
     },
     "execution_count": 182,
     "metadata": {},
     "output_type": "execute_result"
    }
   ],
   "source": [
    "len(text1_tokens)"
   ]
  },
  {
   "cell_type": "code",
   "execution_count": 190,
   "metadata": {},
   "outputs": [
    {
     "data": {
      "text/plain": [
       "19665"
      ]
     },
     "execution_count": 190,
     "metadata": {},
     "output_type": "execute_result"
    }
   ],
   "source": [
    "len(set(text1_tokens))"
   ]
  },
  {
   "cell_type": "code",
   "execution_count": 198,
   "metadata": {},
   "outputs": [],
   "source": [
    "# import the lemmatizer function from nltk.stem \n",
    "from nltk.stem import WordNetLemmatizer\n",
    "\n",
    "#the lemmatizer requires that an instance be called before it is used\n",
    "wordnet_lemmatizer = WordNetLemmatizer()"
   ]
  },
  {
   "cell_type": "code",
   "execution_count": 199,
   "metadata": {},
   "outputs": [],
   "source": [
    "#Lemmatize the words\n",
    "text1_clean = [wordnet_lemmatizer.lemmatize(t) for t in t1_tokens]\n"
   ]
  },
  {
   "cell_type": "code",
   "execution_count": 200,
   "metadata": {},
   "outputs": [
    {
     "data": {
      "text/plain": [
       "118820"
      ]
     },
     "execution_count": 200,
     "metadata": {},
     "output_type": "execute_result"
    }
   ],
   "source": [
    "len(text1_clean)"
   ]
  },
  {
   "cell_type": "code",
   "execution_count": 201,
   "metadata": {},
   "outputs": [
    {
     "data": {
      "text/plain": [
       "14860"
      ]
     },
     "execution_count": 201,
     "metadata": {},
     "output_type": "execute_result"
    }
   ],
   "source": [
    "len(set(text1_clean))"
   ]
  },
  {
   "cell_type": "code",
   "execution_count": 202,
   "metadata": {
    "slideshow": {
     "slide_type": "fragment"
    }
   },
   "outputs": [
    {
     "data": {
      "text/plain": [
       "['a',\n",
       " 'aback',\n",
       " 'abaft',\n",
       " 'abandon',\n",
       " 'abandoned',\n",
       " 'abandonedly',\n",
       " 'abandonment',\n",
       " 'abased',\n",
       " 'abasement',\n",
       " 'abashed',\n",
       " 'abate',\n",
       " 'abated',\n",
       " 'abatement',\n",
       " 'abating',\n",
       " 'abbreviate',\n",
       " 'abbreviation',\n",
       " 'abeam',\n",
       " 'abed',\n",
       " 'abednego',\n",
       " 'abel',\n",
       " 'abhorred',\n",
       " 'abhorrence',\n",
       " 'abhorrent',\n",
       " 'abhorring',\n",
       " 'abide',\n",
       " 'abided',\n",
       " 'abiding',\n",
       " 'ability',\n",
       " 'abjectly',\n",
       " 'abjectus',\n",
       " 'able',\n",
       " 'ablution',\n",
       " 'aboard',\n",
       " 'abode',\n",
       " 'abominable',\n",
       " 'abominate',\n",
       " 'abominated',\n",
       " 'abomination',\n",
       " 'aboriginal',\n",
       " 'aboriginally',\n",
       " 'aboriginalness',\n",
       " 'abortion',\n",
       " 'abound',\n",
       " 'abounded',\n",
       " 'abounding',\n",
       " 'aboundingly',\n",
       " 'about',\n",
       " 'above',\n",
       " 'abraham',\n",
       " 'abreast',\n",
       " 'abridged',\n",
       " 'abroad',\n",
       " 'abruptly',\n",
       " 'absence',\n",
       " 'absent',\n",
       " 'absolute',\n",
       " 'absolutely',\n",
       " 'absorbed',\n",
       " 'absorbing',\n",
       " 'absorbingly',\n",
       " 'abstained',\n",
       " 'abstemious',\n",
       " 'abstinence',\n",
       " 'abstract',\n",
       " 'abstracted',\n",
       " 'abstraction',\n",
       " 'absurd',\n",
       " 'absurdly',\n",
       " 'abundance',\n",
       " 'abundant',\n",
       " 'abundantly',\n",
       " 'academy',\n",
       " 'accelerate',\n",
       " 'accelerated',\n",
       " 'accelerating',\n",
       " 'accept',\n",
       " 'accessible',\n",
       " 'accessory',\n",
       " 'accident',\n",
       " 'accidental',\n",
       " 'accidentally',\n",
       " 'accommodate',\n",
       " 'accommodated',\n",
       " 'accommodation',\n",
       " 'accompanied',\n",
       " 'accompanies',\n",
       " 'accompaniment',\n",
       " 'accompany',\n",
       " 'accompanying',\n",
       " 'accomplish',\n",
       " 'accomplished',\n",
       " 'accomplishing',\n",
       " 'accomplishment',\n",
       " 'accordance',\n",
       " 'according',\n",
       " 'accordingly',\n",
       " 'accosted',\n",
       " 'account',\n",
       " 'accountable',\n",
       " 'accountant',\n",
       " 'accounted',\n",
       " 'accounting',\n",
       " 'accumulate',\n",
       " 'accumulated',\n",
       " 'accumulating',\n",
       " 'accuracy',\n",
       " 'accurate',\n",
       " 'accurately',\n",
       " 'accursed',\n",
       " 'accustomed',\n",
       " 'acerbity',\n",
       " 'ache',\n",
       " 'ached',\n",
       " 'achieve',\n",
       " 'achieved',\n",
       " 'achilles',\n",
       " 'acknowledges',\n",
       " 'acknowledging',\n",
       " 'acquaintance',\n",
       " 'acquainted',\n",
       " 'acquiesce',\n",
       " 'acquiesced',\n",
       " 'acquiescence',\n",
       " 'acquired',\n",
       " 'acre',\n",
       " 'acridness',\n",
       " 'across',\n",
       " 'act',\n",
       " 'acted',\n",
       " 'actest',\n",
       " 'action',\n",
       " 'actium',\n",
       " 'active',\n",
       " 'actively',\n",
       " 'activity',\n",
       " 'actual',\n",
       " 'actually',\n",
       " 'actuated',\n",
       " 'acushnet',\n",
       " 'acute',\n",
       " 'acuteness',\n",
       " 'adam',\n",
       " 'adamite',\n",
       " 'adapted',\n",
       " 'add',\n",
       " 'added',\n",
       " 'adding',\n",
       " 'addition',\n",
       " 'additional',\n",
       " 'address',\n",
       " 'addressed',\n",
       " 'addressing',\n",
       " 'adequate',\n",
       " 'adequately',\n",
       " 'adhering',\n",
       " 'adhesiveness',\n",
       " 'adieu',\n",
       " 'adios',\n",
       " 'adjacent',\n",
       " 'adjoining',\n",
       " 'adjust',\n",
       " 'adjusting',\n",
       " 'admeasurement',\n",
       " 'admeasurements',\n",
       " 'administered',\n",
       " 'administering',\n",
       " 'admirable',\n",
       " 'admirably',\n",
       " 'admiral',\n",
       " 'admire',\n",
       " 'admirer',\n",
       " 'admit',\n",
       " 'admits',\n",
       " 'admitted',\n",
       " 'admitting',\n",
       " 'admonish',\n",
       " 'admonished',\n",
       " 'admonishing',\n",
       " 'admonition',\n",
       " 'admonitory',\n",
       " 'ado',\n",
       " 'adolescence',\n",
       " 'adopt',\n",
       " 'adopted',\n",
       " 'adopting',\n",
       " 'adoption',\n",
       " 'adoration',\n",
       " 'adoring',\n",
       " 'adorned',\n",
       " 'adorning',\n",
       " 'adornment',\n",
       " 'adown',\n",
       " 'adrift',\n",
       " 'adroit',\n",
       " 'adroitly',\n",
       " 'adroop',\n",
       " 'adult',\n",
       " 'adulterer',\n",
       " 'advance',\n",
       " 'advanced',\n",
       " 'advancement',\n",
       " 'advancing',\n",
       " 'advantage',\n",
       " 'advent',\n",
       " 'adventure',\n",
       " 'adventurous',\n",
       " 'adventurously',\n",
       " 'adverse',\n",
       " 'advert',\n",
       " 'advertised',\n",
       " 'advice',\n",
       " 'advised',\n",
       " 'advocate',\n",
       " 'aerated',\n",
       " 'aesthetic',\n",
       " 'aesthetically',\n",
       " 'afar',\n",
       " 'affair',\n",
       " 'affect',\n",
       " 'affected',\n",
       " 'affecting',\n",
       " 'affection',\n",
       " 'affectionate',\n",
       " 'affectionately',\n",
       " 'affghanistan',\n",
       " 'affidavit',\n",
       " 'affinity',\n",
       " 'affirm',\n",
       " 'affirmative',\n",
       " 'affirms',\n",
       " 'affixed',\n",
       " 'afflicted',\n",
       " 'affliction',\n",
       " 'affluent',\n",
       " 'afford',\n",
       " 'afforded',\n",
       " 'affording',\n",
       " 'affords',\n",
       " 'affright',\n",
       " 'affrighted',\n",
       " 'affronted',\n",
       " 'afire',\n",
       " 'afloat',\n",
       " 'afoam',\n",
       " 'afore',\n",
       " 'aforesaid',\n",
       " 'aforethought',\n",
       " 'afoul',\n",
       " 'afraid',\n",
       " 'afresh',\n",
       " 'afric',\n",
       " 'africa',\n",
       " 'african',\n",
       " 'aft',\n",
       " 'after',\n",
       " 'afternoon',\n",
       " 'afterwards',\n",
       " 'again',\n",
       " 'againe',\n",
       " 'against',\n",
       " 'agassiz',\n",
       " 'age',\n",
       " 'aged',\n",
       " 'agency',\n",
       " 'agent',\n",
       " 'aggravate',\n",
       " 'aggregate',\n",
       " 'aggregated',\n",
       " 'aggregation',\n",
       " 'aggrieved',\n",
       " 'aghast',\n",
       " 'agile',\n",
       " 'agitated',\n",
       " 'aglow',\n",
       " 'ago',\n",
       " 'agonized',\n",
       " 'agonizing',\n",
       " 'agonizingly',\n",
       " 'agony',\n",
       " 'agrarian',\n",
       " 'agree',\n",
       " 'agreeable',\n",
       " 'agreed',\n",
       " 'agrees',\n",
       " 'aground',\n",
       " 'ague',\n",
       " 'ah',\n",
       " 'ahab',\n",
       " 'ahasuerus',\n",
       " 'ahaz',\n",
       " 'ahead',\n",
       " 'ahoy',\n",
       " 'aid',\n",
       " 'aide',\n",
       " 'ail',\n",
       " 'aim',\n",
       " 'aimed',\n",
       " 'aimlessly',\n",
       " 'ain',\n",
       " 'aint',\n",
       " 'air',\n",
       " 'airley',\n",
       " 'airth',\n",
       " 'aisle',\n",
       " 'ajar',\n",
       " 'akin',\n",
       " 'ala',\n",
       " 'alabama',\n",
       " 'aladdin',\n",
       " 'alarm',\n",
       " 'alarmed',\n",
       " 'alb',\n",
       " 'albatross',\n",
       " 'albemarle',\n",
       " 'albert',\n",
       " 'albicore',\n",
       " 'albino',\n",
       " 'alcove',\n",
       " 'alderman',\n",
       " 'aldrovandi',\n",
       " 'aldrovandus',\n",
       " 'ale',\n",
       " 'aleak',\n",
       " 'alert',\n",
       " 'alewife',\n",
       " 'alexander',\n",
       " 'alfred',\n",
       " 'algerine',\n",
       " 'algiers',\n",
       " 'alien',\n",
       " 'alights',\n",
       " 'alike',\n",
       " 'aliment',\n",
       " 'alive',\n",
       " 'all',\n",
       " 'allay',\n",
       " 'allaying',\n",
       " 'alleged',\n",
       " 'alleghanian',\n",
       " 'alleghanies',\n",
       " 'allegiance',\n",
       " 'allegorical',\n",
       " 'allegory',\n",
       " 'alley',\n",
       " 'allotted',\n",
       " 'allow',\n",
       " 'allowance',\n",
       " 'allowed',\n",
       " 'allowing',\n",
       " 'allude',\n",
       " 'alluded',\n",
       " 'alluding',\n",
       " 'allure',\n",
       " 'allured',\n",
       " 'allurement',\n",
       " 'alluring',\n",
       " 'alluringly',\n",
       " 'allurings',\n",
       " 'allusion',\n",
       " 'ally',\n",
       " 'almanac',\n",
       " 'almanack',\n",
       " 'almighty',\n",
       " 'almost',\n",
       " 'alms',\n",
       " 'aloft',\n",
       " 'alone',\n",
       " 'along',\n",
       " 'alongside',\n",
       " 'aloof',\n",
       " 'aloud',\n",
       " 'alow',\n",
       " 'alp',\n",
       " 'alpaca',\n",
       " 'alpine',\n",
       " 'already',\n",
       " 'also',\n",
       " 'altar',\n",
       " 'alter',\n",
       " 'altered',\n",
       " 'altering',\n",
       " 'alternate',\n",
       " 'alternately',\n",
       " 'alternating',\n",
       " 'although',\n",
       " 'altitude',\n",
       " 'altogether',\n",
       " 'always',\n",
       " 'am',\n",
       " 'amain',\n",
       " 'amaze',\n",
       " 'amazement',\n",
       " 'amazing',\n",
       " 'amazingly',\n",
       " 'amber',\n",
       " 'ambergriese',\n",
       " 'ambergris',\n",
       " 'ambiguous',\n",
       " 'ambition',\n",
       " 'ambitious',\n",
       " 'amelia',\n",
       " 'amen',\n",
       " 'amend',\n",
       " 'america',\n",
       " 'american',\n",
       " 'amid',\n",
       " 'amidst',\n",
       " 'amittai',\n",
       " 'among',\n",
       " 'amongst',\n",
       " 'amorous',\n",
       " 'amount',\n",
       " 'amounted',\n",
       " 'amour',\n",
       " 'amphibious',\n",
       " 'amphitheatrical',\n",
       " 'ample',\n",
       " 'amplified',\n",
       " 'amplify',\n",
       " 'amputate',\n",
       " 'amputated',\n",
       " 'amputating',\n",
       " 'amputation',\n",
       " 'amsterdam',\n",
       " 'amuck',\n",
       " 'amusing',\n",
       " 'an',\n",
       " 'anacharsis',\n",
       " 'anaconda',\n",
       " 'anak',\n",
       " 'analogical',\n",
       " 'analogous',\n",
       " 'analogy',\n",
       " 'analyse',\n",
       " 'analysed',\n",
       " 'analysis',\n",
       " 'analytic',\n",
       " 'anathema',\n",
       " 'anatomical',\n",
       " 'anatomist',\n",
       " 'anatomy',\n",
       " 'ancestor',\n",
       " 'ancestress',\n",
       " 'ancestry',\n",
       " 'anchor',\n",
       " 'anchored',\n",
       " 'ancient',\n",
       " 'ancientest',\n",
       " 'and',\n",
       " 'andes',\n",
       " 'andiron',\n",
       " 'andrew',\n",
       " 'andromeda',\n",
       " 'anew',\n",
       " 'angel',\n",
       " 'angelo',\n",
       " 'anger',\n",
       " 'angle',\n",
       " 'anglo',\n",
       " 'angrily',\n",
       " 'angry',\n",
       " 'anguish',\n",
       " 'angular',\n",
       " 'angularly',\n",
       " 'animal',\n",
       " 'animate',\n",
       " 'animated',\n",
       " 'animating',\n",
       " 'animation',\n",
       " 'animosity',\n",
       " 'ankers',\n",
       " 'ankle',\n",
       " 'annals',\n",
       " 'annawon',\n",
       " 'anne',\n",
       " 'annihilated',\n",
       " 'annihilating',\n",
       " 'annihilation',\n",
       " 'anno',\n",
       " 'announced',\n",
       " 'announcement',\n",
       " 'announces',\n",
       " 'announcing',\n",
       " 'annual',\n",
       " 'annually',\n",
       " 'annuitant',\n",
       " 'annus',\n",
       " 'anoint',\n",
       " 'anointed',\n",
       " 'anointing',\n",
       " 'anoints',\n",
       " 'anomalous',\n",
       " 'anomalously',\n",
       " 'anomaly',\n",
       " 'anon',\n",
       " 'anonymous',\n",
       " 'another',\n",
       " 'answer',\n",
       " 'answered',\n",
       " 'ant',\n",
       " 'antagonistic',\n",
       " 'antarctic',\n",
       " 'antecedent',\n",
       " 'antediluvian',\n",
       " 'antelope',\n",
       " 'antemosaic',\n",
       " 'anti',\n",
       " 'antic',\n",
       " 'antichronical',\n",
       " 'anticipated',\n",
       " 'anticipatingly',\n",
       " 'anticipation',\n",
       " 'anticipative',\n",
       " 'antidote',\n",
       " 'antilles',\n",
       " 'antiochus',\n",
       " 'antique',\n",
       " 'antiquity',\n",
       " 'antler',\n",
       " 'antlered',\n",
       " 'antony',\n",
       " 'antwerp',\n",
       " 'anus',\n",
       " 'anvil',\n",
       " 'anxiety',\n",
       " 'anxious',\n",
       " 'any',\n",
       " 'anybody',\n",
       " 'anyhow',\n",
       " 'anyone',\n",
       " 'anything',\n",
       " 'anyway',\n",
       " 'anyways',\n",
       " 'anywhere',\n",
       " 'aorta',\n",
       " 'apart',\n",
       " 'apartment',\n",
       " 'ape',\n",
       " 'apeak',\n",
       " 'aperture',\n",
       " 'apex',\n",
       " 'apollo',\n",
       " 'apology',\n",
       " 'apoplectic',\n",
       " 'apoplexy',\n",
       " 'apostolic',\n",
       " 'apothecary',\n",
       " 'apotheosis',\n",
       " 'appal',\n",
       " 'appalled',\n",
       " 'appalling',\n",
       " 'appallingly',\n",
       " 'appals',\n",
       " 'apparatus',\n",
       " 'apparel',\n",
       " 'apparelled',\n",
       " 'apparent',\n",
       " 'apparently',\n",
       " 'apparition',\n",
       " 'appeal',\n",
       " 'appear',\n",
       " 'appearance',\n",
       " 'appeared',\n",
       " 'appearing',\n",
       " 'appears',\n",
       " 'appellation',\n",
       " 'appellative',\n",
       " 'append',\n",
       " 'appendage',\n",
       " 'appetite',\n",
       " 'apple',\n",
       " 'appliance',\n",
       " 'applicable',\n",
       " 'application',\n",
       " 'applied',\n",
       " 'applies',\n",
       " 'apply',\n",
       " 'applying',\n",
       " 'appoint',\n",
       " 'appointed',\n",
       " 'appointment',\n",
       " 'apportioned',\n",
       " 'appreciative',\n",
       " 'apprehension',\n",
       " 'apprehensiveness',\n",
       " 'apprise',\n",
       " 'apprised',\n",
       " 'approach',\n",
       " 'approached',\n",
       " 'approaching',\n",
       " 'appropriate',\n",
       " 'appropriated',\n",
       " 'approval',\n",
       " 'approve',\n",
       " 'approved',\n",
       " 'approving',\n",
       " 'approvingly',\n",
       " 'approximate',\n",
       " 'apricot',\n",
       " 'april',\n",
       " 'apron',\n",
       " 'apt',\n",
       " 'aptitude',\n",
       " 'aquarius',\n",
       " 'arbitrary',\n",
       " 'arboring',\n",
       " 'arbour',\n",
       " 'arc',\n",
       " 'arch',\n",
       " 'archaeological',\n",
       " 'archaeologist',\n",
       " 'archangel',\n",
       " 'archangelic',\n",
       " 'archangelical',\n",
       " 'archbishop',\n",
       " 'archbishopric',\n",
       " 'arched',\n",
       " 'archer',\n",
       " 'archiepiscopacy',\n",
       " 'arching',\n",
       " 'archipelago',\n",
       " 'architect',\n",
       " 'architecture',\n",
       " 'archy',\n",
       " 'arctic',\n",
       " 'ardour',\n",
       " 'are',\n",
       " 'area',\n",
       " 'arethusa',\n",
       " 'argo',\n",
       " 'argosy',\n",
       " 'argue',\n",
       " 'argued',\n",
       " 'arguing',\n",
       " 'argument',\n",
       " 'arid',\n",
       " 'aries',\n",
       " 'aright',\n",
       " 'arion',\n",
       " 'arise',\n",
       " 'arisen',\n",
       " 'arises',\n",
       " 'arising',\n",
       " 'aristotle',\n",
       " 'arithmetic',\n",
       " 'ark',\n",
       " 'arkansas',\n",
       " 'arkite',\n",
       " 'arm',\n",
       " 'armada',\n",
       " 'armed',\n",
       " 'armor',\n",
       " 'army',\n",
       " 'arnold',\n",
       " 'aroma',\n",
       " 'aromatic',\n",
       " 'aroostook',\n",
       " 'arose',\n",
       " 'around',\n",
       " 'arpens',\n",
       " 'arrah',\n",
       " 'arrange',\n",
       " 'arranged',\n",
       " 'arrangement',\n",
       " 'arranging',\n",
       " 'arrant',\n",
       " 'arrantest',\n",
       " 'array',\n",
       " 'arrayed',\n",
       " 'arrested',\n",
       " 'arrival',\n",
       " 'arrive',\n",
       " 'arrived',\n",
       " 'arrives',\n",
       " 'arriving',\n",
       " 'arrogance',\n",
       " 'arrow',\n",
       " 'arrowy',\n",
       " 'arsacidean',\n",
       " 'arsacides',\n",
       " 'art',\n",
       " 'artedi',\n",
       " 'arter',\n",
       " 'arterial',\n",
       " 'artful',\n",
       " 'article',\n",
       " 'articulated',\n",
       " 'artificial',\n",
       " 'artificially',\n",
       " 'artificialness',\n",
       " 'artisan',\n",
       " 'artist',\n",
       " 'artistic',\n",
       " 'as',\n",
       " 'asa',\n",
       " 'ascend',\n",
       " 'ascended',\n",
       " 'ascendency',\n",
       " 'ascending',\n",
       " 'ascertained',\n",
       " 'ascertaining',\n",
       " 'ascribable',\n",
       " 'ascribe',\n",
       " 'ascribed',\n",
       " 'ascription',\n",
       " 'ash',\n",
       " 'ashantee',\n",
       " 'ashore',\n",
       " 'asia',\n",
       " 'asiatic',\n",
       " 'aside',\n",
       " 'ask',\n",
       " 'askance',\n",
       " 'asked',\n",
       " 'aslant',\n",
       " 'asleep',\n",
       " 'aslope',\n",
       " 'aspect',\n",
       " 'aspersion',\n",
       " 'asphaltic',\n",
       " 'asphaltites',\n",
       " 'aspiration',\n",
       " 'aspiring',\n",
       " 'assail',\n",
       " 'assailable',\n",
       " 'assailant',\n",
       " 'assailed',\n",
       " 'assailing',\n",
       " 'assails',\n",
       " 'assassin',\n",
       " 'assault',\n",
       " 'assaulted',\n",
       " 'assembled',\n",
       " 'assembly',\n",
       " 'assented',\n",
       " 'assert',\n",
       " 'asserted',\n",
       " 'assertion',\n",
       " 'assigned',\n",
       " 'assignment',\n",
       " 'assigns',\n",
       " 'assist',\n",
       " 'assistance',\n",
       " 'assistant',\n",
       " 'assisted',\n",
       " 'assisting',\n",
       " 'associate',\n",
       " 'associated',\n",
       " 'association',\n",
       " 'assuaging',\n",
       " 'assume',\n",
       " 'assumed',\n",
       " 'assumes',\n",
       " 'assuming',\n",
       " 'assumption',\n",
       " 'assurance',\n",
       " 'assure',\n",
       " 'assured',\n",
       " 'assuredly',\n",
       " 'assures',\n",
       " 'assuring',\n",
       " 'assyrian',\n",
       " 'astern',\n",
       " 'astir',\n",
       " 'astonished',\n",
       " 'astonishing',\n",
       " 'astonishment',\n",
       " 'astral',\n",
       " 'astrological',\n",
       " 'astronomer',\n",
       " 'astronomical',\n",
       " 'astronomy',\n",
       " 'asunder',\n",
       " 'asylum',\n",
       " 'at',\n",
       " 'ate',\n",
       " 'atheism',\n",
       " 'atheistical',\n",
       " 'athirst',\n",
       " 'athletic',\n",
       " 'athwartships',\n",
       " 'atlantic',\n",
       " 'atmosphere',\n",
       " 'atmospheric',\n",
       " 'atom',\n",
       " 'atrocious',\n",
       " 'attached',\n",
       " 'attaching',\n",
       " 'attack',\n",
       " 'attacked',\n",
       " 'attacking',\n",
       " 'attain',\n",
       " 'attainable',\n",
       " 'attained',\n",
       " 'attaining',\n",
       " 'attains',\n",
       " 'attar',\n",
       " 'attempt',\n",
       " 'attend',\n",
       " 'attendance',\n",
       " 'attendant',\n",
       " 'attended',\n",
       " 'attending',\n",
       " 'attends',\n",
       " 'attention',\n",
       " 'attentive',\n",
       " 'attentively',\n",
       " 'attenuated',\n",
       " 'attest',\n",
       " 'attestation',\n",
       " 'attested',\n",
       " 'attic',\n",
       " 'attitude',\n",
       " 'attract',\n",
       " 'attracted',\n",
       " 'attraction',\n",
       " 'attribute',\n",
       " 'attuned',\n",
       " 'auction',\n",
       " 'audacious',\n",
       " 'audacity',\n",
       " 'audible',\n",
       " 'auger',\n",
       " 'aught',\n",
       " 'augment',\n",
       " 'augmented',\n",
       " 'august',\n",
       " 'aunt',\n",
       " 'auspex',\n",
       " 'austere',\n",
       " 'australia',\n",
       " 'australian',\n",
       " 'austrian',\n",
       " 'authentic',\n",
       " 'authenticated',\n",
       " 'author',\n",
       " 'authoritative',\n",
       " 'authoritatively',\n",
       " 'authority',\n",
       " 'authorized',\n",
       " 'auto',\n",
       " 'automaton',\n",
       " 'autumn',\n",
       " 'autumnal',\n",
       " 'auxiliary',\n",
       " 'avail',\n",
       " 'available',\n",
       " 'availing',\n",
       " 'availle',\n",
       " 'avast',\n",
       " 'avatar',\n",
       " 'avenger',\n",
       " 'avenue',\n",
       " 'average',\n",
       " 'averred',\n",
       " 'avers',\n",
       " 'averse',\n",
       " 'averted',\n",
       " 'avocation',\n",
       " 'avoid',\n",
       " 'await',\n",
       " 'awaited',\n",
       " 'awaiting',\n",
       " 'awake',\n",
       " 'awaken',\n",
       " 'awakened',\n",
       " 'awarded',\n",
       " 'aware',\n",
       " 'away',\n",
       " 'awe',\n",
       " 'awed',\n",
       " 'awestruck',\n",
       " 'awful',\n",
       " 'awfulness',\n",
       " 'awhile',\n",
       " 'awkwardness',\n",
       " 'awl',\n",
       " 'awoke',\n",
       " 'awry',\n",
       " 'axe',\n",
       " 'axis',\n",
       " 'axle',\n",
       " 'ay',\n",
       " 'aye',\n",
       " 'azimuth',\n",
       " 'azore',\n",
       " 'azores',\n",
       " 'azure',\n",
       " 'babbling',\n",
       " 'babe',\n",
       " 'babel',\n",
       " 'baboon',\n",
       " 'baby',\n",
       " 'babyish',\n",
       " 'babylon',\n",
       " 'babylonian',\n",
       " 'bachelor',\n",
       " 'back',\n",
       " 'backbone',\n",
       " 'backed',\n",
       " 'background',\n",
       " 'backing',\n",
       " 'backstay',\n",
       " 'backward',\n",
       " 'backwardly',\n",
       " 'backwards',\n",
       " 'backwoods',\n",
       " 'backwoodsman',\n",
       " 'bacon',\n",
       " 'bad',\n",
       " 'bade',\n",
       " 'baden',\n",
       " 'badge',\n",
       " 'badger',\n",
       " 'badly',\n",
       " 'baffle',\n",
       " 'baffled',\n",
       " 'bag',\n",
       " 'baggage',\n",
       " 'bagged',\n",
       " 'bagging',\n",
       " 'bailer',\n",
       " 'bailiff',\n",
       " 'bait',\n",
       " 'bake',\n",
       " 'baked',\n",
       " 'baker',\n",
       " 'balaene',\n",
       " 'balanced',\n",
       " 'balancing',\n",
       " 'bald',\n",
       " 'bale',\n",
       " 'baleen',\n",
       " 'baleful',\n",
       " 'baleine',\n",
       " 'balena',\n",
       " 'baliene',\n",
       " 'baling',\n",
       " 'ball',\n",
       " 'ballast',\n",
       " 'ballasted',\n",
       " 'ballena',\n",
       " 'balloon',\n",
       " 'ballroom',\n",
       " 'bally',\n",
       " 'balmed',\n",
       " 'balmy',\n",
       " 'baltic',\n",
       " 'baltimore',\n",
       " 'bamboo',\n",
       " 'bamboozingly',\n",
       " 'bamboozle',\n",
       " 'band',\n",
       " 'bandage',\n",
       " 'bandaged',\n",
       " 'bandana',\n",
       " 'bandbox',\n",
       " 'banded',\n",
       " 'bandied',\n",
       " 'banding',\n",
       " 'bang',\n",
       " 'banished',\n",
       " 'banister',\n",
       " 'bank',\n",
       " 'banked',\n",
       " 'banker',\n",
       " 'bankrupt',\n",
       " 'banned',\n",
       " 'banner',\n",
       " 'bannered',\n",
       " 'bannister',\n",
       " 'banquet',\n",
       " 'banqueter',\n",
       " 'bantam',\n",
       " 'bantering',\n",
       " 'banteringly',\n",
       " 'banterings',\n",
       " 'baptised',\n",
       " 'baptism',\n",
       " 'baptismal',\n",
       " 'baptized',\n",
       " 'baptizo',\n",
       " 'bar',\n",
       " 'barb',\n",
       " 'barbacued',\n",
       " 'barbarian',\n",
       " 'barbaric',\n",
       " 'barbarous',\n",
       " 'barbary',\n",
       " 'barbecue',\n",
       " 'barbed',\n",
       " 'barber',\n",
       " 'bare',\n",
       " 'barely',\n",
       " 'barest',\n",
       " 'bargain',\n",
       " 'barge',\n",
       " 'bark',\n",
       " 'barn',\n",
       " 'barnacle',\n",
       " ...]"
      ]
     },
     "execution_count": 202,
     "metadata": {},
     "output_type": "execute_result"
    }
   ],
   "source": [
    "sorted(set(text1_clean))"
   ]
  },
  {
   "cell_type": "code",
   "execution_count": 204,
   "metadata": {},
   "outputs": [
    {
     "data": {
      "text/plain": [
       "['a',\n",
       " 'aback',\n",
       " 'abaft',\n",
       " 'abandon',\n",
       " 'abandonedli',\n",
       " 'abas',\n",
       " 'abash',\n",
       " 'abat',\n",
       " 'abbrevi',\n",
       " 'abe',\n",
       " 'abeam',\n",
       " 'abednego',\n",
       " 'abel',\n",
       " 'abhor',\n",
       " 'abhorr',\n",
       " 'abid',\n",
       " 'abil',\n",
       " 'abjectli',\n",
       " 'abjectu',\n",
       " 'abl',\n",
       " 'ablut',\n",
       " 'aboard',\n",
       " 'abod',\n",
       " 'abomin',\n",
       " 'aborigin',\n",
       " 'abort',\n",
       " 'abound',\n",
       " 'aboundingli',\n",
       " 'about',\n",
       " 'abov',\n",
       " 'abraham',\n",
       " 'abreast',\n",
       " 'abridg',\n",
       " 'abroad',\n",
       " 'abruptli',\n",
       " 'absenc',\n",
       " 'absent',\n",
       " 'absolut',\n",
       " 'absorb',\n",
       " 'absorbingli',\n",
       " 'abstain',\n",
       " 'abstemi',\n",
       " 'abstin',\n",
       " 'abstract',\n",
       " 'absurd',\n",
       " 'absurdli',\n",
       " 'abund',\n",
       " 'abundantli',\n",
       " 'academi',\n",
       " 'acceler',\n",
       " 'accept',\n",
       " 'access',\n",
       " 'accessori',\n",
       " 'accid',\n",
       " 'accident',\n",
       " 'accommod',\n",
       " 'accompani',\n",
       " 'accomplish',\n",
       " 'accord',\n",
       " 'accordingli',\n",
       " 'accost',\n",
       " 'account',\n",
       " 'accumul',\n",
       " 'accur',\n",
       " 'accuraci',\n",
       " 'accurs',\n",
       " 'accustom',\n",
       " 'acerb',\n",
       " 'ach',\n",
       " 'achiev',\n",
       " 'achil',\n",
       " 'acknowledg',\n",
       " 'acquaint',\n",
       " 'acquiesc',\n",
       " 'acquir',\n",
       " 'acr',\n",
       " 'acrid',\n",
       " 'across',\n",
       " 'act',\n",
       " 'actest',\n",
       " 'action',\n",
       " 'actium',\n",
       " 'activ',\n",
       " 'actual',\n",
       " 'actuat',\n",
       " 'acushnet',\n",
       " 'acut',\n",
       " 'ad',\n",
       " 'adam',\n",
       " 'adamit',\n",
       " 'adapt',\n",
       " 'add',\n",
       " 'addit',\n",
       " 'address',\n",
       " 'adequ',\n",
       " 'adher',\n",
       " 'adhes',\n",
       " 'adieu',\n",
       " 'adio',\n",
       " 'adjac',\n",
       " 'adjoin',\n",
       " 'adjust',\n",
       " 'admeasur',\n",
       " 'administ',\n",
       " 'admir',\n",
       " 'admit',\n",
       " 'admonish',\n",
       " 'admonit',\n",
       " 'admonitori',\n",
       " 'ado',\n",
       " 'adolesc',\n",
       " 'adopt',\n",
       " 'ador',\n",
       " 'adorn',\n",
       " 'adown',\n",
       " 'adrift',\n",
       " 'adroit',\n",
       " 'adroitli',\n",
       " 'adroop',\n",
       " 'adult',\n",
       " 'adulter',\n",
       " 'advanc',\n",
       " 'advantag',\n",
       " 'advent',\n",
       " 'adventur',\n",
       " 'advers',\n",
       " 'advert',\n",
       " 'advertis',\n",
       " 'advic',\n",
       " 'advis',\n",
       " 'advoc',\n",
       " 'aerat',\n",
       " 'aesthet',\n",
       " 'afar',\n",
       " 'affair',\n",
       " 'affect',\n",
       " 'affection',\n",
       " 'affghanistan',\n",
       " 'affidavit',\n",
       " 'affin',\n",
       " 'affirm',\n",
       " 'affix',\n",
       " 'afflict',\n",
       " 'affluent',\n",
       " 'afford',\n",
       " 'affright',\n",
       " 'affront',\n",
       " 'afir',\n",
       " 'afloat',\n",
       " 'afoam',\n",
       " 'afor',\n",
       " 'aforesaid',\n",
       " 'aforethought',\n",
       " 'afoul',\n",
       " 'afraid',\n",
       " 'afresh',\n",
       " 'afric',\n",
       " 'africa',\n",
       " 'african',\n",
       " 'aft',\n",
       " 'after',\n",
       " 'afternoon',\n",
       " 'afterward',\n",
       " 'again',\n",
       " 'against',\n",
       " 'agassiz',\n",
       " 'age',\n",
       " 'agenc',\n",
       " 'agent',\n",
       " 'aggrav',\n",
       " 'aggreg',\n",
       " 'aggriev',\n",
       " 'aghast',\n",
       " 'agil',\n",
       " 'agit',\n",
       " 'aglow',\n",
       " 'ago',\n",
       " 'agon',\n",
       " 'agoni',\n",
       " 'agonizingli',\n",
       " 'agrarian',\n",
       " 'agre',\n",
       " 'agreeabl',\n",
       " 'aground',\n",
       " 'agu',\n",
       " 'ah',\n",
       " 'ahab',\n",
       " 'ahasueru',\n",
       " 'ahaz',\n",
       " 'ahead',\n",
       " 'ahoy',\n",
       " 'aid',\n",
       " 'ail',\n",
       " 'aim',\n",
       " 'aimlessli',\n",
       " 'ain',\n",
       " 'aint',\n",
       " 'air',\n",
       " 'airley',\n",
       " 'airth',\n",
       " 'aisl',\n",
       " 'ajar',\n",
       " 'akin',\n",
       " 'ala',\n",
       " 'alabama',\n",
       " 'aladdin',\n",
       " 'alarm',\n",
       " 'alb',\n",
       " 'albatross',\n",
       " 'albemarl',\n",
       " 'albert',\n",
       " 'albicor',\n",
       " 'albino',\n",
       " 'alcov',\n",
       " 'alderman',\n",
       " 'aldrovandi',\n",
       " 'aldrovandu',\n",
       " 'ale',\n",
       " 'aleak',\n",
       " 'alert',\n",
       " 'alewif',\n",
       " 'alexand',\n",
       " 'alfr',\n",
       " 'algerin',\n",
       " 'algier',\n",
       " 'alien',\n",
       " 'alight',\n",
       " 'alik',\n",
       " 'aliment',\n",
       " 'aliv',\n",
       " 'all',\n",
       " 'allay',\n",
       " 'alleg',\n",
       " 'alleghani',\n",
       " 'alleghanian',\n",
       " 'allegi',\n",
       " 'allegor',\n",
       " 'allegori',\n",
       " 'alley',\n",
       " 'alli',\n",
       " 'allot',\n",
       " 'allow',\n",
       " 'allud',\n",
       " 'allur',\n",
       " 'alluringli',\n",
       " 'allus',\n",
       " 'alm',\n",
       " 'almanac',\n",
       " 'almanack',\n",
       " 'almighti',\n",
       " 'almost',\n",
       " 'aloft',\n",
       " 'alon',\n",
       " 'along',\n",
       " 'alongsid',\n",
       " 'aloof',\n",
       " 'aloud',\n",
       " 'alow',\n",
       " 'alp',\n",
       " 'alpaca',\n",
       " 'alpin',\n",
       " 'alreadi',\n",
       " 'also',\n",
       " 'altar',\n",
       " 'alter',\n",
       " 'altern',\n",
       " 'although',\n",
       " 'altitud',\n",
       " 'altogeth',\n",
       " 'alway',\n",
       " 'am',\n",
       " 'amain',\n",
       " 'amaz',\n",
       " 'amazingli',\n",
       " 'amber',\n",
       " 'ambergri',\n",
       " 'ambergries',\n",
       " 'ambigu',\n",
       " 'ambit',\n",
       " 'ambiti',\n",
       " 'amelia',\n",
       " 'amen',\n",
       " 'amend',\n",
       " 'america',\n",
       " 'american',\n",
       " 'amid',\n",
       " 'amidst',\n",
       " 'amittai',\n",
       " 'among',\n",
       " 'amongst',\n",
       " 'amor',\n",
       " 'amount',\n",
       " 'amour',\n",
       " 'amphibi',\n",
       " 'amphitheatr',\n",
       " 'ampl',\n",
       " 'amplifi',\n",
       " 'amput',\n",
       " 'amsterdam',\n",
       " 'amuck',\n",
       " 'amus',\n",
       " 'an',\n",
       " 'anacharsi',\n",
       " 'anaconda',\n",
       " 'anak',\n",
       " 'analog',\n",
       " 'analys',\n",
       " 'analysi',\n",
       " 'analyt',\n",
       " 'anathema',\n",
       " 'anatom',\n",
       " 'anatomi',\n",
       " 'anatomist',\n",
       " 'ancestor',\n",
       " 'ancestress',\n",
       " 'ancestri',\n",
       " 'anchor',\n",
       " 'ancient',\n",
       " 'ancientest',\n",
       " 'and',\n",
       " 'andiron',\n",
       " 'andrew',\n",
       " 'andromeda',\n",
       " 'anew',\n",
       " 'angel',\n",
       " 'angelo',\n",
       " 'anger',\n",
       " 'angl',\n",
       " 'anglo',\n",
       " 'angri',\n",
       " 'angrili',\n",
       " 'anguish',\n",
       " 'angular',\n",
       " 'angularli',\n",
       " 'ani',\n",
       " 'anim',\n",
       " 'animos',\n",
       " 'anker',\n",
       " 'ankl',\n",
       " 'ann',\n",
       " 'annal',\n",
       " 'annawon',\n",
       " 'annihil',\n",
       " 'anno',\n",
       " 'announc',\n",
       " 'annu',\n",
       " 'annual',\n",
       " 'annuit',\n",
       " 'anoint',\n",
       " 'anomal',\n",
       " 'anomali',\n",
       " 'anon',\n",
       " 'anonym',\n",
       " 'anoth',\n",
       " 'answer',\n",
       " 'ant',\n",
       " 'antagonist',\n",
       " 'antarct',\n",
       " 'anteced',\n",
       " 'antediluvian',\n",
       " 'antelop',\n",
       " 'antemosa',\n",
       " 'anti',\n",
       " 'antic',\n",
       " 'antichron',\n",
       " 'anticip',\n",
       " 'anticipatingli',\n",
       " 'antidot',\n",
       " 'antil',\n",
       " 'antiochu',\n",
       " 'antiqu',\n",
       " 'antler',\n",
       " 'antoni',\n",
       " 'antwerp',\n",
       " 'anu',\n",
       " 'anvil',\n",
       " 'anxieti',\n",
       " 'anxiou',\n",
       " 'anybodi',\n",
       " 'anyhow',\n",
       " 'anyon',\n",
       " 'anyth',\n",
       " 'anyway',\n",
       " 'anywher',\n",
       " 'aorta',\n",
       " 'apart',\n",
       " 'ape',\n",
       " 'apeak',\n",
       " 'apertur',\n",
       " 'apex',\n",
       " 'apollo',\n",
       " 'apolog',\n",
       " 'apoplect',\n",
       " 'apoplexi',\n",
       " 'apostol',\n",
       " 'apothecari',\n",
       " 'apotheosi',\n",
       " 'appal',\n",
       " 'appallingli',\n",
       " 'appar',\n",
       " 'apparatu',\n",
       " 'apparel',\n",
       " 'apparit',\n",
       " 'appeal',\n",
       " 'appear',\n",
       " 'appel',\n",
       " 'append',\n",
       " 'appendag',\n",
       " 'appetit',\n",
       " 'appl',\n",
       " 'appli',\n",
       " 'applianc',\n",
       " 'applic',\n",
       " 'appoint',\n",
       " 'apport',\n",
       " 'appreci',\n",
       " 'apprehens',\n",
       " 'appris',\n",
       " 'approach',\n",
       " 'appropri',\n",
       " 'approv',\n",
       " 'approvingli',\n",
       " 'approxim',\n",
       " 'apricot',\n",
       " 'april',\n",
       " 'apron',\n",
       " 'apt',\n",
       " 'aptitud',\n",
       " 'aquariu',\n",
       " 'arbitrari',\n",
       " 'arbor',\n",
       " 'arbour',\n",
       " 'arc',\n",
       " 'arch',\n",
       " 'archaeolog',\n",
       " 'archaeologist',\n",
       " 'archangel',\n",
       " 'archbishop',\n",
       " 'archbishopr',\n",
       " 'archer',\n",
       " 'archi',\n",
       " 'archiepiscopaci',\n",
       " 'archipelago',\n",
       " 'architect',\n",
       " 'architectur',\n",
       " 'arctic',\n",
       " 'ardour',\n",
       " 'are',\n",
       " 'area',\n",
       " 'arethusa',\n",
       " 'argo',\n",
       " 'argosi',\n",
       " 'argu',\n",
       " 'argument',\n",
       " 'ari',\n",
       " 'arid',\n",
       " 'aright',\n",
       " 'arion',\n",
       " 'aris',\n",
       " 'arisen',\n",
       " 'aristotl',\n",
       " 'arithmet',\n",
       " 'ark',\n",
       " 'arkansa',\n",
       " 'arkit',\n",
       " 'arm',\n",
       " 'armada',\n",
       " 'armi',\n",
       " 'armor',\n",
       " 'arnold',\n",
       " 'aroma',\n",
       " 'aromat',\n",
       " 'aroostook',\n",
       " 'aros',\n",
       " 'around',\n",
       " 'arpen',\n",
       " 'arrah',\n",
       " 'arrang',\n",
       " 'arrant',\n",
       " 'arrantest',\n",
       " 'array',\n",
       " 'arrest',\n",
       " 'arriv',\n",
       " 'arrog',\n",
       " 'arrow',\n",
       " 'arrowi',\n",
       " 'arsacid',\n",
       " 'arsacidean',\n",
       " 'art',\n",
       " 'artedi',\n",
       " 'arter',\n",
       " 'arteri',\n",
       " 'articl',\n",
       " 'articul',\n",
       " 'artifici',\n",
       " 'artisan',\n",
       " 'artist',\n",
       " 'as',\n",
       " 'asa',\n",
       " 'ascend',\n",
       " 'ascertain',\n",
       " 'ascrib',\n",
       " 'ascript',\n",
       " 'ash',\n",
       " 'ashante',\n",
       " 'ashor',\n",
       " 'asia',\n",
       " 'asiat',\n",
       " 'asid',\n",
       " 'ask',\n",
       " 'askanc',\n",
       " 'aslant',\n",
       " 'asleep',\n",
       " 'aslop',\n",
       " 'aspect',\n",
       " 'aspers',\n",
       " 'asphalt',\n",
       " 'asphaltit',\n",
       " 'aspir',\n",
       " 'ass',\n",
       " 'assail',\n",
       " 'assassin',\n",
       " 'assault',\n",
       " 'assembl',\n",
       " 'assent',\n",
       " 'assert',\n",
       " 'assign',\n",
       " 'assist',\n",
       " 'associ',\n",
       " 'assuag',\n",
       " 'assum',\n",
       " 'assumpt',\n",
       " 'assur',\n",
       " 'assuredli',\n",
       " 'assyrian',\n",
       " 'astern',\n",
       " 'astir',\n",
       " 'astonish',\n",
       " 'astral',\n",
       " 'astrolog',\n",
       " 'astronom',\n",
       " 'astronomi',\n",
       " 'asund',\n",
       " 'asylum',\n",
       " 'at',\n",
       " 'ate',\n",
       " 'atheism',\n",
       " 'atheist',\n",
       " 'athirst',\n",
       " 'athlet',\n",
       " 'athwartship',\n",
       " 'atlant',\n",
       " 'atmospher',\n",
       " 'atom',\n",
       " 'atroci',\n",
       " 'attach',\n",
       " 'attack',\n",
       " 'attain',\n",
       " 'attar',\n",
       " 'attempt',\n",
       " 'attend',\n",
       " 'attent',\n",
       " 'attenu',\n",
       " 'attest',\n",
       " 'attic',\n",
       " 'attitud',\n",
       " 'attract',\n",
       " 'attribut',\n",
       " 'attun',\n",
       " 'auction',\n",
       " 'audac',\n",
       " 'audaci',\n",
       " 'audibl',\n",
       " 'auger',\n",
       " 'aught',\n",
       " 'augment',\n",
       " 'august',\n",
       " 'aunt',\n",
       " 'auspex',\n",
       " 'auster',\n",
       " 'australia',\n",
       " 'australian',\n",
       " 'austrian',\n",
       " 'authent',\n",
       " 'author',\n",
       " 'authorit',\n",
       " 'auto',\n",
       " 'automaton',\n",
       " 'autumn',\n",
       " 'auxiliari',\n",
       " 'avail',\n",
       " 'avast',\n",
       " 'avatar',\n",
       " 'aveng',\n",
       " 'avenu',\n",
       " 'aver',\n",
       " 'averag',\n",
       " 'avers',\n",
       " 'avert',\n",
       " 'avoc',\n",
       " 'avoid',\n",
       " 'aw',\n",
       " 'await',\n",
       " 'awak',\n",
       " 'awaken',\n",
       " 'awar',\n",
       " 'award',\n",
       " 'away',\n",
       " 'awe',\n",
       " 'awestruck',\n",
       " 'awhil',\n",
       " 'awkward',\n",
       " 'awl',\n",
       " 'awok',\n",
       " 'awri',\n",
       " 'axe',\n",
       " 'axi',\n",
       " 'axl',\n",
       " 'ay',\n",
       " 'aye',\n",
       " 'azimuth',\n",
       " 'azor',\n",
       " 'azur',\n",
       " 'babbl',\n",
       " 'babe',\n",
       " 'babel',\n",
       " 'babi',\n",
       " 'baboon',\n",
       " 'babyish',\n",
       " 'babylon',\n",
       " 'babylonian',\n",
       " 'bachelor',\n",
       " 'back',\n",
       " 'backbon',\n",
       " 'background',\n",
       " 'backstay',\n",
       " 'backward',\n",
       " 'backwardli',\n",
       " 'backwood',\n",
       " 'backwoodsman',\n",
       " 'bacon',\n",
       " 'bad',\n",
       " 'bade',\n",
       " 'baden',\n",
       " 'badg',\n",
       " 'badger',\n",
       " 'badli',\n",
       " 'baffl',\n",
       " 'bag',\n",
       " 'baggag',\n",
       " 'bailer',\n",
       " 'bailiff',\n",
       " 'bait',\n",
       " 'bake',\n",
       " 'baker',\n",
       " 'balaen',\n",
       " 'balanc',\n",
       " 'bald',\n",
       " 'bale',\n",
       " 'baleen',\n",
       " 'balein',\n",
       " 'balena',\n",
       " 'balien',\n",
       " 'ball',\n",
       " 'ballast',\n",
       " 'ballena',\n",
       " 'balli',\n",
       " 'balloon',\n",
       " 'ballroom',\n",
       " 'balm',\n",
       " 'balmi',\n",
       " 'baltic',\n",
       " 'baltimor',\n",
       " 'bamboo',\n",
       " 'bamboozingli',\n",
       " 'bamboozl',\n",
       " 'ban',\n",
       " 'band',\n",
       " 'bandag',\n",
       " 'bandana',\n",
       " 'bandbox',\n",
       " 'bandi',\n",
       " 'bang',\n",
       " 'banish',\n",
       " 'banist',\n",
       " 'bank',\n",
       " 'banker',\n",
       " 'bankrupt',\n",
       " 'banner',\n",
       " 'bannist',\n",
       " 'banquet',\n",
       " 'bantam',\n",
       " 'banter',\n",
       " 'banteringli',\n",
       " 'baptis',\n",
       " 'baptism',\n",
       " 'baptiz',\n",
       " 'baptizo',\n",
       " 'bar',\n",
       " 'barb',\n",
       " 'barbacu',\n",
       " 'barbar',\n",
       " 'barbari',\n",
       " 'barbarian',\n",
       " 'barbecu',\n",
       " 'barber',\n",
       " 'bare',\n",
       " 'barest',\n",
       " 'barg',\n",
       " 'bargain',\n",
       " 'bark',\n",
       " 'barn',\n",
       " 'barnacl',\n",
       " 'baromet',\n",
       " 'baron',\n",
       " 'baroni',\n",
       " 'barqu',\n",
       " 'barrel',\n",
       " 'barren',\n",
       " 'barricad',\n",
       " 'barrier',\n",
       " 'barrow',\n",
       " 'barter',\n",
       " 'bartholomew',\n",
       " 'base',\n",
       " 'basement',\n",
       " 'baser',\n",
       " 'bash',\n",
       " 'bashaw',\n",
       " 'bashe',\n",
       " 'basi',\n",
       " 'basilosauru',\n",
       " 'basin',\n",
       " 'bask',\n",
       " 'basket',\n",
       " 'bass',\n",
       " 'basso',\n",
       " 'bastil',\n",
       " 'bastion',\n",
       " 'bat',\n",
       " 'bath',\n",
       " 'baton',\n",
       " 'battalion',\n",
       " 'batten',\n",
       " 'batter',\n",
       " 'batteri',\n",
       " 'battl',\n",
       " 'baulk',\n",
       " 'bawl',\n",
       " 'bay',\n",
       " 'bayonet',\n",
       " 'be',\n",
       " 'beach',\n",
       " 'beacon',\n",
       " 'bead',\n",
       " 'beadl',\n",
       " 'beak',\n",
       " 'beaker',\n",
       " 'beal',\n",
       " 'beam',\n",
       " 'bear',\n",
       " 'beard',\n",
       " 'bearer',\n",
       " 'bearskin',\n",
       " 'beast',\n",
       " 'beat',\n",
       " 'beaten',\n",
       " 'beater',\n",
       " 'beauti',\n",
       " 'beaver',\n",
       " 'becalm',\n",
       " 'becam',\n",
       " 'becaus',\n",
       " 'becharm',\n",
       " 'becket',\n",
       " 'beckon',\n",
       " 'becom',\n",
       " 'bed',\n",
       " 'bedarn',\n",
       " 'bedeaden',\n",
       " 'bedevil',\n",
       " 'bedfellow',\n",
       " 'bedford',\n",
       " 'bedraggl',\n",
       " 'bedroom',\n",
       " 'bedsid',\n",
       " 'bedstead',\n",
       " 'bedward',\n",
       " 'bee',\n",
       " 'beech',\n",
       " 'beef',\n",
       " 'beefsteak',\n",
       " 'beehiv',\n",
       " 'beelzebub',\n",
       " 'beer',\n",
       " 'befal',\n",
       " 'befallen',\n",
       " 'befel',\n",
       " 'befog',\n",
       " 'befool',\n",
       " 'befor',\n",
       " 'befriend',\n",
       " 'beg',\n",
       " 'began',\n",
       " 'begat',\n",
       " 'beget',\n",
       " 'beggar',\n",
       " 'begin',\n",
       " 'beginn',\n",
       " 'begon',\n",
       " 'begotten',\n",
       " 'begrim',\n",
       " 'begun',\n",
       " 'behalf',\n",
       " 'behavior',\n",
       " 'behead',\n",
       " 'beheld',\n",
       " 'behind',\n",
       " 'behold',\n",
       " 'beholdest',\n",
       " 'behoov',\n",
       " 'behr',\n",
       " 'bejuggl',\n",
       " 'belat',\n",
       " 'belay',\n",
       " 'belfast',\n",
       " 'belfri',\n",
       " 'beli',\n",
       " 'belial',\n",
       " 'belief',\n",
       " 'beliest',\n",
       " 'believ',\n",
       " 'belik',\n",
       " 'belisariu',\n",
       " 'bell',\n",
       " 'belli',\n",
       " 'bellow',\n",
       " 'belong',\n",
       " 'belongest',\n",
       " 'belov',\n",
       " 'below',\n",
       " 'belshazzar',\n",
       " 'belt',\n",
       " 'belub',\n",
       " 'bench',\n",
       " 'bend',\n",
       " 'bendigo',\n",
       " 'beneath',\n",
       " 'benedict',\n",
       " 'benefit',\n",
       " 'benevol',\n",
       " 'bengal',\n",
       " 'benign',\n",
       " 'benjamin',\n",
       " 'bennett',\n",
       " 'bent',\n",
       " 'bentham',\n",
       " 'bepatch',\n",
       " 'bequeath',\n",
       " 'berg',\n",
       " 'berkshir',\n",
       " 'berlin',\n",
       " 'bermuda',\n",
       " 'bernard',\n",
       " 'berri',\n",
       " 'berth',\n",
       " 'beseech',\n",
       " 'beset',\n",
       " 'besid',\n",
       " 'besieg',\n",
       " 'besmok',\n",
       " 'besoot',\n",
       " 'bespatt',\n",
       " 'bespeak',\n",
       " 'best',\n",
       " 'bestir',\n",
       " 'bestow',\n",
       " 'bestreak',\n",
       " 'bet',\n",
       " 'betak',\n",
       " 'betaken',\n",
       " 'bethink',\n",
       " 'bethought',\n",
       " 'betoken',\n",
       " 'betray',\n",
       " 'better',\n",
       " 'betti',\n",
       " 'between',\n",
       " 'beverag',\n",
       " 'bevi',\n",
       " 'bewar',\n",
       " 'bewild',\n",
       " 'bewitch',\n",
       " 'beyond',\n",
       " 'bias',\n",
       " 'bibl',\n",
       " 'bibliograph',\n",
       " 'bid',\n",
       " 'bidden',\n",
       " 'bier',\n",
       " 'big',\n",
       " 'bigamist',\n",
       " 'bigger',\n",
       " 'biggest',\n",
       " 'bigot',\n",
       " 'bigotri',\n",
       " 'bildad',\n",
       " 'biliou',\n",
       " 'bill',\n",
       " 'billet',\n",
       " 'billiard',\n",
       " 'billion',\n",
       " 'billow',\n",
       " 'bilocular',\n",
       " 'bind',\n",
       " 'binder',\n",
       " 'binnacl',\n",
       " 'biograph',\n",
       " 'biographi',\n",
       " 'bipe',\n",
       " 'birch',\n",
       " 'bird',\n",
       " 'birmah',\n",
       " 'birth',\n",
       " 'birthmark',\n",
       " 'biscuit',\n",
       " 'bishop',\n",
       " 'bison',\n",
       " 'bit',\n",
       " 'bite',\n",
       " 'bitin',\n",
       " 'bitingli',\n",
       " 'bitt',\n",
       " 'bitter',\n",
       " 'bitterest',\n",
       " 'bitterli',\n",
       " 'bivouack',\n",
       " 'black',\n",
       " 'blackberri',\n",
       " 'blacken',\n",
       " 'blackest',\n",
       " 'blackish',\n",
       " 'blackl',\n",
       " 'blacksmith',\n",
       " 'blackston',\n",
       " 'bladder',\n",
       " 'blade',\n",
       " 'blame',\n",
       " 'blameworthi',\n",
       " 'blanc',\n",
       " 'blanch',\n",
       " 'blanco',\n",
       " 'bland',\n",
       " 'blandish',\n",
       " 'blang',\n",
       " 'blank',\n",
       " 'blanket',\n",
       " 'blasphem',\n",
       " 'blasphemi',\n",
       " 'blast',\n",
       " 'blaze',\n",
       " 'bleach',\n",
       " 'bleak',\n",
       " 'bled',\n",
       " 'bleed',\n",
       " 'blemish',\n",
       " 'blend',\n",
       " 'blent',\n",
       " 'bless',\n",
       " 'blew',\n",
       " 'blight',\n",
       " 'blind',\n",
       " 'blindest',\n",
       " 'blindfold',\n",
       " 'blindli',\n",
       " 'bliss',\n",
       " 'blister',\n",
       " 'blisteringli',\n",
       " 'blith',\n",
       " 'bloat',\n",
       " 'block',\n",
       " 'blockhead',\n",
       " 'blocksburg',\n",
       " 'blood',\n",
       " 'bloodi',\n",
       " 'bloodiest',\n",
       " 'bloodsh',\n",
       " 'bloodshot',\n",
       " 'bloodthirsti',\n",
       " 'bloom',\n",
       " 'blossom',\n",
       " 'blot',\n",
       " 'blow',\n",
       " 'blown',\n",
       " 'blubber',\n",
       " 'blue',\n",
       " 'blueness',\n",
       " 'bluer',\n",
       " 'bluff',\n",
       " 'bluish',\n",
       " ...]"
      ]
     },
     "execution_count": 204,
     "metadata": {},
     "output_type": "execute_result"
    }
   ],
   "source": [
    "from nltk.stem import PorterStemmer\n",
    "porter_stemmer = PorterStemmer()\n",
    "t1_porter = [porter_stemmer.stem(t) for t in t1_tokens]\n",
    "sorted(set(t1_porter))"
   ]
  },
  {
   "cell_type": "code",
   "execution_count": 207,
   "metadata": {
    "slideshow": {
     "slide_type": "fragment"
    }
   },
   "outputs": [],
   "source": [
    "my_dist = FreqDist(text1_clean)"
   ]
  },
  {
   "cell_type": "markdown",
   "metadata": {},
   "source": [
    "Usually nothing happens here, so check the **type** to be sure it worked"
   ]
  },
  {
   "cell_type": "code",
   "execution_count": 208,
   "metadata": {
    "slideshow": {
     "slide_type": "fragment"
    }
   },
   "outputs": [
    {
     "data": {
      "text/plain": [
       "nltk.probability.FreqDist"
      ]
     },
     "execution_count": 208,
     "metadata": {},
     "output_type": "execute_result"
    }
   ],
   "source": [
    "type(my_dist)"
   ]
  },
  {
   "cell_type": "markdown",
   "metadata": {
    "slideshow": {
     "slide_type": "slide"
    }
   },
   "source": [
    "Now let's **plot** the graph"
   ]
  },
  {
   "cell_type": "code",
   "execution_count": 209,
   "metadata": {
    "slideshow": {
     "slide_type": "fragment"
    }
   },
   "outputs": [
    {
     "data": {
      "image/png": "[encoded data removed]",
      "text/plain": [
       "<matplotlib.figure.Figure at 0x1a2bd0d2e8>"
      ]
     },
     "metadata": {},
     "output_type": "display_data"
    }
   ],
   "source": [
    "my_dist.plot(50,cumulative=False)"
   ]
  },
  {
   "cell_type": "markdown",
   "metadata": {
    "slideshow": {
     "slide_type": "slide"
    }
   },
   "source": [
    "It may be a little easier to look at as a list"
   ]
  },
  {
   "cell_type": "code",
   "execution_count": 210,
   "metadata": {
    "slideshow": {
     "slide_type": "fragment"
    }
   },
   "outputs": [
    {
     "data": {
      "text/plain": [
       "[('i', 2124),\n",
       " ('whale', 1494),\n",
       " ('one', 940),\n",
       " ('the', 710),\n",
       " ('but', 705),\n",
       " ('like', 650),\n",
       " ('ship', 605),\n",
       " ('upon', 566),\n",
       " ('sea', 542),\n",
       " ('man', 527),\n",
       " ('ahab', 512),\n",
       " ('boat', 483),\n",
       " ('ye', 472),\n",
       " ('old', 450),\n",
       " ('time', 446),\n",
       " ('would', 432),\n",
       " ('head', 431),\n",
       " ('and', 406),\n",
       " ('though', 384),\n",
       " ('captain', 353)]"
      ]
     },
     "execution_count": 210,
     "metadata": {},
     "output_type": "execute_result"
    }
   ],
   "source": [
    "my_dist.most_common(20)"
   ]
  },
  {
   "cell_type": "markdown",
   "metadata": {
    "slideshow": {
     "slide_type": "slide"
    }
   },
   "source": [
    "Now let's check to see if some words we are interested in appear in our text"
   ]
  },
  {
   "cell_type": "code",
   "execution_count": 211,
   "metadata": {
    "slideshow": {
     "slide_type": "subslide"
    }
   },
   "outputs": [],
   "source": [
    "b_words = ['god', 'apostle', 'angel']"
   ]
  },
  {
   "cell_type": "code",
   "execution_count": 212,
   "metadata": {
    "slideshow": {
     "slide_type": "-"
    }
   },
   "outputs": [],
   "source": [
    "my_list = []\n",
    "for word in b_words:\n",
    "    if word in text1_clean:\n",
    "        my_list.append(word)\n",
    "    else:\n",
    "        pass"
   ]
  },
  {
   "cell_type": "code",
   "execution_count": 213,
   "metadata": {
    "slideshow": {
     "slide_type": "-"
    }
   },
   "outputs": [
    {
     "name": "stdout",
     "output_type": "stream",
     "text": [
      "['god', 'angel']\n"
     ]
    }
   ],
   "source": [
    "print(my_list)"
   ]
  },
  {
   "cell_type": "markdown",
   "metadata": {
    "slideshow": {
     "slide_type": "slide"
    }
   },
   "source": [
    "Let's pull a book in from the Internet\n",
    "\n",
    "Project Gutenburg is a great source! www.gutenberg.org\n",
    "Let's say I'm interested in writings about East Africa from the early 20th century. I find the book, Zanzibar Tales, translated by George W. Bateman. In Project Gutenberg's database, this is text number 37472 \n",
    "\n"
   ]
  },
  {
   "cell_type": "markdown",
   "metadata": {
    "slideshow": {
     "slide_type": "slide"
    }
   },
   "source": [
    "To make a book into a Text NLTK can deal with, we have to:\n",
    "\n",
    "* open the file from a location\n",
    "* read it/decode it \n",
    "* tokenize it (go from a string to a list of word)\n",
    "* nltk.Text() "
   ]
  },
  {
   "cell_type": "code",
   "execution_count": null,
   "metadata": {
    "slideshow": {
     "slide_type": "slide"
    }
   },
   "outputs": [],
   "source": [
    "#import the urlopen command\n",
    "from urllib.request import urlopen\n",
    "#set the url to a variable \n",
    "#DO NOT NAVIGATE TO THE SITE AND JUST COPY THE LINK - THIS IS THE TXT VERSION! BETTER TO TYPE THIS LINK\n",
    "my_url = \"https://www.gutenberg.org/files/37472/37472.txt\"\n"
   ]
  },
  {
   "cell_type": "code",
   "execution_count": null,
   "metadata": {
    "slideshow": {
     "slide_type": "slide"
    }
   },
   "outputs": [],
   "source": [
    "#open the file from the url\n",
    "file = urlopen(my_url)\n",
    "#read the opened file\n",
    "raw = file.read()"
   ]
  },
  {
   "cell_type": "code",
   "execution_count": null,
   "metadata": {
    "slideshow": {
     "slide_type": "slide"
    }
   },
   "outputs": [],
   "source": [
    "#specify which decoding to use. (usually utf-8)\n",
    "zt = raw.decode('utf-8')"
   ]
  },
  {
   "cell_type": "code",
   "execution_count": null,
   "metadata": {
    "slideshow": {
     "slide_type": "slide"
    }
   },
   "outputs": [],
   "source": [
    "#check the type to be sure it worked. I expect a string now.\n",
    "type(zt)"
   ]
  },
  {
   "cell_type": "code",
   "execution_count": null,
   "metadata": {},
   "outputs": [],
   "source": [
    "import nltk"
   ]
  },
  {
   "cell_type": "code",
   "execution_count": null,
   "metadata": {
    "slideshow": {
     "slide_type": "slide"
    }
   },
   "outputs": [],
   "source": [
    "#split the string into words with word_tokenize (uses spaces to distinguish words)\n",
    "zt_tokens = nltk.word_tokenize(zt)"
   ]
  },
  {
   "cell_type": "code",
   "execution_count": null,
   "metadata": {
    "slideshow": {
     "slide_type": "fragment"
    }
   },
   "outputs": [],
   "source": [
    "#check to make sure it worked\n",
    "type(zt_tokens)"
   ]
  },
  {
   "cell_type": "code",
   "execution_count": null,
   "metadata": {
    "slideshow": {
     "slide_type": "fragment"
    }
   },
   "outputs": [],
   "source": [
    "#get an idea of how big the file is\n",
    "len(zt_tokens)"
   ]
  },
  {
   "cell_type": "code",
   "execution_count": null,
   "metadata": {
    "scrolled": true,
    "slideshow": {
     "slide_type": "slide"
    }
   },
   "outputs": [],
   "source": [
    "#look at the first 10 words to be sure its correct\n",
    "zt_tokens[:10]"
   ]
  },
  {
   "cell_type": "markdown",
   "metadata": {
    "slideshow": {
     "slide_type": "slide"
    }
   },
   "source": [
    "Yuck! That just looks like metadata! \n",
    "\n",
    "Removing metadata involves using Regular Expressions\n",
    "\n",
    "Regular Expressions are saved for another day. They are powerful but complicated"
   ]
  },
  {
   "cell_type": "markdown",
   "metadata": {},
   "source": [
    "I want to get rid of that **intro** metadata!!\n",
    "\n",
    "I found the number **177** by copying this into Text Wrangler\n",
    "Text Wrangler counts words, characters, and spaces\n",
    "\n",
    "To do this for many files, you need Regular Expressions"
   ]
  },
  {
   "cell_type": "code",
   "execution_count": null,
   "metadata": {
    "slideshow": {
     "slide_type": "slide"
    }
   },
   "outputs": [],
   "source": [
    "zt_tokens[177:188]"
   ]
  },
  {
   "cell_type": "code",
   "execution_count": null,
   "metadata": {
    "slideshow": {
     "slide_type": "slide"
    }
   },
   "outputs": [],
   "source": [
    "#turn the list of words into a text nltk can recognize\n",
    "zt_text = nltk.Text(zt_tokens[177:])"
   ]
  },
  {
   "cell_type": "code",
   "execution_count": null,
   "metadata": {
    "slideshow": {
     "slide_type": "fragment"
    }
   },
   "outputs": [],
   "source": [
    "#check to make sure it worked\n",
    "type(zt_text)"
   ]
  },
  {
   "cell_type": "code",
   "execution_count": null,
   "metadata": {
    "slideshow": {
     "slide_type": "fragment"
    }
   },
   "outputs": [],
   "source": [
    "#get an idea of how big the file is\n",
    "len(zt_text)"
   ]
  },
  {
   "cell_type": "markdown",
   "metadata": {},
   "source": [
    "To get a better idea of the content of a text, it's usually best to exclude stopwords\n",
    "\n",
    "**Stopwords** perform grammatical functions, but have limited semantic content.\n",
    "\n",
    "(the, a, at, in, of, with, etc.)\n",
    "\n",
    "Two methods:\n",
    "\n",
    "* Use a pre-defined list from nltk\n",
    "* Make your own list and use a for-loop"
   ]
  },
  {
   "cell_type": "code",
   "execution_count": null,
   "metadata": {},
   "outputs": [],
   "source": [
    "#Remove stop words\n",
    "#mystops = stopwords.words('english')\n",
    "#zt_clean = [w for w in zt_text if w not in mystops]\n",
    "\n",
    "#while we're at it, let's finish cleaning\n",
    "zt_clean = [t.lower() for t in zt_text if t.isalpha()]\n"
   ]
  },
  {
   "cell_type": "code",
   "execution_count": null,
   "metadata": {
    "scrolled": true,
    "slideshow": {
     "slide_type": "fragment"
    }
   },
   "outputs": [],
   "source": [
    "#Let's check out the lexical density\n",
    "len(set(zt_clean))/len(zt_clean)"
   ]
  },
  {
   "cell_type": "markdown",
   "metadata": {
    "slideshow": {
     "slide_type": "slide"
    }
   },
   "source": [
    "This is the density of the whole book without the stop words, which better represents the variety of words used"
   ]
  },
  {
   "cell_type": "markdown",
   "metadata": {
    "slideshow": {
     "slide_type": "slide"
    }
   },
   "source": [
    "One step further! \n",
    "**Part-of-Speech Tagging**\n",
    "\n",
    "NLTK uses the Penn Tag Set. \n",
    "\n",
    "There are better options (i.e., tree tagger and polyglot), but this illustrates the idea."
   ]
  },
  {
   "cell_type": "code",
   "execution_count": null,
   "metadata": {
    "slideshow": {
     "slide_type": "slide"
    }
   },
   "outputs": [],
   "source": [
    "#make a new object that has all the words and tags in it\n",
    "zt_tagged = nltk.pos_tag(zt_clean)"
   ]
  },
  {
   "cell_type": "code",
   "execution_count": null,
   "metadata": {
    "slideshow": {
     "slide_type": "fragment"
    }
   },
   "outputs": [],
   "source": [
    "print(zt_tagged[:10])"
   ]
  },
  {
   "cell_type": "markdown",
   "metadata": {
    "slideshow": {
     "slide_type": "slide"
    }
   },
   "source": [
    "This doesn't look like a dictionary! What's going on??"
   ]
  },
  {
   "cell_type": "code",
   "execution_count": null,
   "metadata": {
    "slideshow": {
     "slide_type": "fragment"
    }
   },
   "outputs": [],
   "source": [
    "type(zt_tagged)"
   ]
  },
  {
   "cell_type": "markdown",
   "metadata": {
    "slideshow": {
     "slide_type": "fragment"
    }
   },
   "source": [
    "We have a **list of tuples**\n"
   ]
  },
  {
   "cell_type": "markdown",
   "metadata": {
    "slideshow": {
     "slide_type": "slide"
    }
   },
   "source": [
    "I'm going to put it in a for-loop\n",
    "\n",
    "Have to deal with this in a special way \n",
    "<br>(a, b) in my_list\n"
   ]
  },
  {
   "cell_type": "code",
   "execution_count": null,
   "metadata": {
    "slideshow": {
     "slide_type": "slide"
    }
   },
   "outputs": [],
   "source": [
    "#function to determine what is the most common tag in Zanzibar Tales\n",
    "def commontag(taggedbook):\n",
    "#create an empty dictionary\n",
    "    tag_dict = {}\n",
    "#for every word/tag combo in my list, \n",
    "    for (word, tag) in taggedbook:\n",
    "        if tag in tag_dict: \n",
    "            tag_dict[tag]+=1\n",
    "        else:\n",
    "            tag_dict[tag] = 1\n",
    "    print(tag_dict)\n",
    "\n",
    "commontag(zt_tagged)"
   ]
  },
  {
   "cell_type": "markdown",
   "metadata": {
    "slideshow": {
     "slide_type": "slide"
    }
   },
   "source": [
    "I wish I would have made that return an ordered dictionary!!!"
   ]
  },
  {
   "cell_type": "markdown",
   "metadata": {
    "slideshow": {
     "slide_type": "fragment"
    }
   },
   "source": [
    "Let's add a line of code with OrderedDict in it'"
   ]
  },
  {
   "cell_type": "code",
   "execution_count": null,
   "metadata": {
    "slideshow": {
     "slide_type": "slide"
    }
   },
   "outputs": [],
   "source": [
    "from collections import OrderedDict\n",
    "\n",
    "def commontag(taggedbook):\n",
    "#create an empty dictionary\n",
    "    tag_dict = {}\n",
    "#for every word/tag combo in my list, \n",
    "    for (word, tag) in taggedbook:\n",
    "        if tag in tag_dict: \n",
    "            tag_dict[tag]+=1\n",
    "        else:\n",
    "            tag_dict[tag] = 1\n",
    "    tag_dict = OrderedDict(sorted(tag_dict.items(), key=lambda t: t[1]))\n",
    "    print(tag_dict)\n",
    "\n",
    "commontag(zt_tagged)"
   ]
  },
  {
   "cell_type": "markdown",
   "metadata": {
    "slideshow": {
     "slide_type": "slide"
    }
   },
   "source": [
    "How do you know to put all that other stuff in (i.e., sorted, lambda, etc)?!?"
   ]
  },
  {
   "cell_type": "markdown",
   "metadata": {
    "slideshow": {
     "slide_type": "fragment"
    }
   },
   "source": [
    "*Read the docs*\n",
    "\n",
    "https://docs.python.org/3.1/whatsnew/3.1.html"
   ]
  },
  {
   "cell_type": "markdown",
   "metadata": {
    "slideshow": {
     "slide_type": "slide"
    }
   },
   "source": [
    "So far, we have counted things in our texts by looking at \n",
    "\n",
    "* Concordance\n",
    "* Words in similar environments\n",
    "* Words in common contexts\n",
    "* Unique words \n",
    "* Length of words \n"
   ]
  },
  {
   "cell_type": "markdown",
   "metadata": {
    "slideshow": {
     "slide_type": "slide"
    }
   },
   "source": [
    "Then we performed some operations, but still counted things:\n",
    "\n",
    "* Frequency Distributions\n",
    "* Lexical Density \n",
    "* Found words from a list in a text\n",
    "* Part-of-Speech Tags"
   ]
  },
  {
   "cell_type": "markdown",
   "metadata": {
    "slideshow": {
     "slide_type": "slide"
    }
   },
   "source": [
    "Now we will perform operations on the Text itself before doing those operations"
   ]
  },
  {
   "cell_type": "code",
   "execution_count": null,
   "metadata": {
    "scrolled": true,
    "slideshow": {
     "slide_type": "fragment"
    }
   },
   "outputs": [],
   "source": [
    "#Let's check out the lexical density\n",
    "len(set(zt_clean))/len(zt_clean)"
   ]
  },
  {
   "cell_type": "markdown",
   "metadata": {
    "slideshow": {
     "slide_type": "slide"
    }
   },
   "source": [
    "What if I want to read in my OWN corpus?"
   ]
  },
  {
   "cell_type": "code",
   "execution_count": null,
   "metadata": {
    "slideshow": {
     "slide_type": "slide"
    }
   },
   "outputs": [],
   "source": [
    "f = open(\"/Users/mam/books/hungerGames/catchingFire.txt\", 'r')\n",
    "my_file = f.read()\n"
   ]
  },
  {
   "cell_type": "code",
   "execution_count": null,
   "metadata": {
    "slideshow": {
     "slide_type": "slide"
    }
   },
   "outputs": [],
   "source": [
    "hg_tokens = nltk.word_tokenize(my_file)\n",
    "hg_tokens[:100]"
   ]
  },
  {
   "cell_type": "markdown",
   "metadata": {
    "slideshow": {
     "slide_type": "slide"
    }
   },
   "source": [
    "**Going Forward**\n",
    "\n",
    "* Use a text editor to write complete programs\n",
    "    * Run these in the terminal\n",
    "* Use Spyder to write complete programs\n",
    "* Often save the program you write in the same file as the file you will be working with to shorted the path."
   ]
  },
  {
   "cell_type": "markdown",
   "metadata": {},
   "source": [
    "How do I know where to go?!?\n",
    "* http://www.nltk.org/book_1ed\n",
    "* http://www.nltk.org/\n",
    "\n"
   ]
  },
  {
   "cell_type": "code",
   "execution_count": null,
   "metadata": {},
   "outputs": [],
   "source": []
  }
 ],
 "metadata": {
  "anaconda-cloud": {},
  "celltoolbar": "Slideshow",
  "kernelspec": {
   "display_name": "Python 3",
   "language": "python",
   "name": "python3"
  }
 },
 "nbformat": 4,
 "nbformat_minor": 2
}
